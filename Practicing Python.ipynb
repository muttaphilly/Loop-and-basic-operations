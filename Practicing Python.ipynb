{
 "cells": [
  {
   "cell_type": "markdown",
   "id": "58529e66",
   "metadata": {},
   "source": [
    "# Part A - Environment and basic operation"
   ]
  },
  {
   "cell_type": "code",
   "execution_count": 46,
   "id": "21040d3e",
   "metadata": {},
   "outputs": [
    {
     "name": "stdout",
     "output_type": "stream",
     "text": [
      "--------------------------------------\n",
      "🚀 Welcome to the D|H|M|S Convertor 🚀\n",
      "--------------------------------------\n",
      "Please enter a number of seconds: sandwhich\n",
      "--------------------------------------\n",
      "Sorry, we need a non-negative integer. Please try again!\n",
      "Please enter a number of seconds: 6427635843666\n",
      "--------------------------------------\n",
      "All those seconds total up to 74393933 Days, 9 Hours, 1 Minutes and 6 Seconds!\n"
     ]
    }
   ],
   "source": [
    "# Welcome user \n",
    "print(\"--------------------------------------\\n🚀 Welcome to the D|H|M|S Convertor 🚀\\n--------------------------------------\")\n",
    "\n",
    "# Conversion method. Validate input is positive integer.\n",
    "def convert_seconds(input_seconds):\n",
    "    if input_seconds.isdigit() and int(input_seconds) >= 0:\n",
    "        #Convert input. divmod function takes 2 values, division and the remainder\n",
    "        # So first input divided by number seconds in a day, 86400\n",
    "        days, remainder = divmod(int(input_seconds), 86400)  \n",
    "        # Now hours. 1 day = 24 hours * 60 minutes * 60 seconds\n",
    "        hours, remainder = divmod(remainder, 3600)\n",
    "        # Now mintues. 1 hour = 60 minutes * 60 seconds\n",
    "        minutes, seconds = divmod(remainder, 60)\n",
    "        # then finally 1 minute = 60 seconds\n",
    "        return days, hours, minutes, seconds\n",
    "    else:\n",
    "        print(\"--------------------------------------\")\n",
    "        print(\"Sorry, we need a non-negative integer. Please try again!\")\n",
    "        return convert_seconds(input('Please enter a number of seconds: '))\n",
    "\n",
    "# Get user input. Run convert_seconds method\n",
    "output_days, output_hours, output_minutes, output_seconds = convert_seconds(input('Please enter a number of seconds: '))\n",
    "\n",
    "# Print results\n",
    "print(\"--------------------------------------\")\n",
    "print('All those seconds total up to', output_days, 'Days,',output_hours, 'Hours,', output_minutes, 'Minutes',  'and', output_seconds, 'Seconds!')"
   ]
  },
  {
   "cell_type": "code",
   "execution_count": 47,
   "id": "ccfcf4ae",
   "metadata": {},
   "outputs": [
    {
     "name": "stdout",
     "output_type": "stream",
     "text": [
      "<class 'int'> <class 'int'> <class 'int'> <class 'int'>\n"
     ]
    }
   ],
   "source": [
    "# Check values saved as integers\n",
    "print(type(output_days), \n",
    "type(output_hours),\n",
    "type(output_minutes),\n",
    "type(output_seconds))"
   ]
  },
  {
   "cell_type": "markdown",
   "id": "e65b5bf8",
   "metadata": {},
   "source": [
    "# Part B- Loop"
   ]
  },
  {
   "cell_type": "code",
   "execution_count": 48,
   "id": "b3735cd0",
   "metadata": {},
   "outputs": [
    {
     "name": "stdout",
     "output_type": "stream",
     "text": [
      "-------------------------------\n",
      "🚀 Welcome! Let the journey begin 🚀\n",
      "-------------------------------\n",
      "Where would you like to start? \n",
      "-------------------------------\n",
      "Enter a x-coordinate: mctest face\n",
      "Hmmm that doesn't look right. Please enter a number to begin\n",
      "Enter a x-coordinate: -42\n",
      "Hmmm that doesn't look right. Please enter a number to begin\n",
      "Enter a x-coordinate: 100\n",
      "Enter a y-coordinate: 100\n",
      "-------------------------------\n",
      "Oh lalalaaah! An excellent choice. Your initial coordinates are set to: \n",
      "-------------------------------\n",
      "x:  100 y:  100\n",
      "-------------------------------\n",
      "🏔️ Well then, where should we venture off too next? 🏔️\n",
      "-------------------------------\n",
      "Enter a direction (up, down, right, left)\n",
      "Type 'end' to stop the ride :) \n",
      "-------------------------------\n",
      "Enter a movement direction (up, down, right, left, end): up\n",
      "-------------------------------\n",
      "New coordinates set to:  x:  100 y:  101\n",
      "Enter a movement direction (up, down, right, left, end): left\n",
      "-------------------------------\n",
      "New coordinates set to:  x:  99 y:  101\n",
      "Enter a movement direction (up, down, right, left, end): down\n",
      "-------------------------------\n",
      "New coordinates set to:  x:  99 y:  100\n",
      "Enter a movement direction (up, down, right, left, end): right\n",
      "-------------------------------\n",
      "New coordinates set to:  x:  100 y:  100\n",
      "Enter a movement direction (up, down, right, left, end): end\n",
      "-------------------------------\n",
      "Okay bye-bye then 👋\n",
      "Final coordinates:  x:  100 y:  100\n"
     ]
    }
   ],
   "source": [
    "# Welcome user \n",
    "print(\"-------------------------------\\n🚀 Welcome! Let the journey begin 🚀\\n-------------------------------\")\n",
    "print(\"Where would you like to start? \\n-------------------------------\")\n",
    "\n",
    "# Handles user input prompt. Runs validation with isdigit function, save input to variables x & y\n",
    "def getUserInput(prompt):\n",
    "    while True:\n",
    "        user_input = input(prompt)\n",
    "        if user_input.isdigit() and int(user_input) >= 0:\n",
    "            return int(user_input)\n",
    "        else:\n",
    "            print(\"Hmmm that doesn't look right. Please enter a number to begin\")\n",
    "\n",
    "x = getUserInput(\"Enter a x-coordinate: \")\n",
    "y = getUserInput(\"Enter a y-coordinate: \")\n",
    "print(\"-------------------------------\")\n",
    "print(\"Oh lalalaaah! An excellent choice. Your initial coordinates are set to: \\n-------------------------------\")\n",
    "print(\"x: \", x, \"y: \", y)\n",
    "print(\"-------------------------------\")\n",
    "\n",
    "# Method to take movement input from user.  Validates input strings with if/else then passes them to direction variable\n",
    "print(\"🏔️ Well then, where should we venture off too next? 🏔️\")\n",
    "print(\"-------------------------------\")\n",
    "print(\"Enter a direction (up, down, right, left)\")\n",
    "print(\"Type 'end' to stop the ride :) \\n-------------------------------\")\n",
    "def getMovement():\n",
    "    while True:\n",
    "        direction = input(\"Enter a movement direction (up, down, right, left, end): \").lower()\n",
    "        if direction in [\"up\", \"down\", \"right\", \"left\", \"end\"]:\n",
    "            return direction\n",
    "        else:\n",
    "            print(\"Oh no.. That doesn't look quite right. Please enter a valid movement direction (up, down, right, left, end).\")\n",
    "\n",
    "# Takes direction variable from getMovement, loops to match condition statement, passes to relevant x or y variable\n",
    "def updateCoords(x, y, direction):\n",
    "    if direction == \"up\":\n",
    "        y += 1\n",
    "    elif direction == \"down\":\n",
    "        y -= 1\n",
    "    elif direction == \"right\":\n",
    "        x += 1\n",
    "    elif direction == \"left\":\n",
    "        x -= 1\n",
    "    return x, y\n",
    "\n",
    "# Main loop. runs getMovement and updates direction variable until user types 'end'\n",
    "while True:\n",
    "    direction = getMovement()\n",
    "\n",
    "    if direction == \"end\":\n",
    "        print(\"-------------------------------\")\n",
    "        print(\"Okay bye-bye then 👋\")\n",
    "        print(\"Final coordinates: \", \"x: \", x, \"y: \" , y)\n",
    "        break\n",
    "    else:\n",
    "        # Update variables. Print to the console\n",
    "        x, y = updateCoords(x, y, direction)\n",
    "        print(\"-------------------------------\")\n",
    "        print(\"New coordinates set to: \", \"x: \", x, \"y: \", y)\n"
   ]
  },
  {
   "cell_type": "code",
   "execution_count": null,
   "id": "186bd4db",
   "metadata": {},
   "outputs": [],
   "source": []
  }
 ],
 "metadata": {
  "kernelspec": {
   "display_name": "Python 3 (ipykernel)",
   "language": "python",
   "name": "python3"
  },
  "language_info": {
   "codemirror_mode": {
    "name": "ipython",
    "version": 3
   },
   "file_extension": ".py",
   "mimetype": "text/x-python",
   "name": "python",
   "nbconvert_exporter": "python",
   "pygments_lexer": "ipython3",
   "version": "3.11.5"
  }
 },
 "nbformat": 4,
 "nbformat_minor": 5
}
